{
  "nbformat": 4,
  "nbformat_minor": 0,
  "metadata": {
    "colab": {
      "provenance": [],
      "authorship_tag": "ABX9TyNVobRUbAmmSYTevsg+bIvg",
      "include_colab_link": true
    },
    "kernelspec": {
      "name": "python3",
      "display_name": "Python 3"
    },
    "language_info": {
      "name": "python"
    }
  },
  "cells": [
    {
      "cell_type": "markdown",
      "metadata": {
        "id": "view-in-github",
        "colab_type": "text"
      },
      "source": [
        "<a href=\"https://colab.research.google.com/github/Genius19245/Catching_Game/blob/main/fictionalcountry_tax_calculator.ipynb\" target=\"_parent\"><img src=\"https://colab.research.google.com/assets/colab-badge.svg\" alt=\"Open In Colab\"/></a>"
      ]
    },
    {
      "cell_type": "code",
      "execution_count": 3,
      "metadata": {
        "id": "vyPkia71ROH7"
      },
      "outputs": [],
      "source": [
        "lowland_tax_rate = 0.05\n",
        "ripoff_tax_rate = 0.43\n",
        "income = 25000"
      ]
    },
    {
      "cell_type": "code",
      "source": [
        "print(f'Your income is {income} and you would pay {income*lowland_tax_rate} income tax in Lowtaxland or {income*ripoff_tax_rate} income tax in Ripoffland.\\nYou would save {(income*ripoff_tax_rate)-(income*lowland_tax_rate)} by paying taxes in Lowtaxland!')"
      ],
      "metadata": {
        "colab": {
          "base_uri": "https://localhost:8080/"
        },
        "id": "vhxbIM84RwVk",
        "outputId": "9a279548-a98f-414d-f87e-6e891eb0af77"
      },
      "execution_count": 9,
      "outputs": [
        {
          "output_type": "stream",
          "name": "stdout",
          "text": [
            "Your income is 25000 and you would pay 1250.0 income tax in Lowtaxland or 10750.0 income tax in Ripoffland.\n",
            "You would save 9500.0 by paying taxes in Lowtaxland!\n"
          ]
        }
      ]
    },
    {
      "cell_type": "code",
      "source": [],
      "metadata": {
        "id": "mn7CcJNKSgzm"
      },
      "execution_count": null,
      "outputs": []
    }
  ]
}